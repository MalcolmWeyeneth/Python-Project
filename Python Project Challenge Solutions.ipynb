{
 "cells": [
  {
   "cell_type": "markdown",
   "metadata": {
    "id": "_wuaDbzWm-i8"
   },
   "source": [
    "# MINI CHALLENGES SOLUTIONS"
   ]
  },
  {
   "cell_type": "markdown",
   "metadata": {
    "id": "Xq-Y8OW0nG8O"
   },
   "source": [
    "MINI CHALLENGE #1 SOLUTION:\n",
    "- We defined a variable x and we assigned these 4 values listed below to it. Without executing any code cells, what will these lines of code generate?\n",
    "- Verify your answer by executing the code cells\n",
    "\n",
    "```\n",
    "z = 1000\n",
    "z = 2000\n",
    "z = 5000\n",
    "z = 6000\n",
    "z\n",
    "```"
   ]
  },
  {
   "cell_type": "code",
   "execution_count": null,
   "metadata": {
    "id": "R_CHNPWbnAf0"
   },
   "outputs": [],
   "source": [
    "# The output of this code is 6000\n",
    "# Initially we put 1000 in z, then we overwrite it by placing 2000 in z, and then 5000 in z & finally 6000 in z\n",
    "z = 1000\n",
    "z = 2000\n",
    "z = 5000\n",
    "z = 6000"
   ]
  },
  {
   "cell_type": "markdown",
   "metadata": {
    "id": "kfyhdekfaUnr"
   },
   "source": [
    "MINI CHALLENGE #2 SOLUTION:\n",
    "- Write a code that takes in APPLE (AAPL) stock prices at two days and calculate the return:\n",
    "  - AAPL price on day 1 = \\$135\n",
    "  - AAPL price on day 2 = \\$150\n"
   ]
  },
  {
   "cell_type": "code",
   "execution_count": 3,
   "metadata": {
    "id": "SUdMEr51Y0cR",
    "scrolled": true
   },
   "outputs": [
    {
     "data": {
      "text/plain": [
       "11.11111111111111"
      ]
     },
     "execution_count": 3,
     "metadata": {},
     "output_type": "execute_result"
    }
   ],
   "source": [
    "AAPL_price_1 = 135\n",
    "AAPL_price_2 = 150\n",
    "\n",
    "price_diff = AAPL_price_2 - AAPL_price_1\n",
    "percentage_change = price_diff / AAPL_price_1 * 100\n",
    "\n",
    "percentage_change"
   ]
  },
  {
   "cell_type": "markdown",
   "metadata": {},
   "source": [
    "MINI CHALLENGE #3 SOLUTION:\n",
    "- Write a code that takes in the name of the stock, price at which it is selling, the number of stocks that you want to own and prints out the total funds required to buy this stock. Find a sample expected output below:\n",
    "  - Enter the price of the stock you want to buy: 3000  \n",
    "  - Enter the number of stocks that you want to buy: 5\n",
    "  - Enter the name of the stock that you want to buy: AMZN\n",
    "  - The total funds required to buy 5 number of AMZN stocks at 3000 is: 15000"
   ]
  },
  {
   "cell_type": "code",
   "execution_count": null,
   "metadata": {},
   "outputs": [],
   "source": [
    "x = input(\"Enter the price of the stock you want to buy: \")\n",
    "x = int(x)\n",
    "y = input(\"Enter the number of stocks that you want to buy: \")\n",
    "y = int(y)\n",
    "z = input(\"Enter the name of the stock that you want to buy: \")\n",
    "print('The total funds required to buy {} number of {} stocks at {} is {}'.format(y,z,x, x*y)) "
   ]
  },
  {
   "cell_type": "markdown",
   "metadata": {},
   "source": [
    "MINI CHALLENGE #4 SOLUTION:\n",
    "- Print the first, second and last element in the list below\n",
    "\n",
    "```\n",
    "grocery_list = ['milk', 'rice', 'eggs', 'bread', 'oranges', 'water']\n",
    "\n",
    "```\n"
   ]
  },
  {
   "cell_type": "code",
   "execution_count": null,
   "metadata": {},
   "outputs": [],
   "source": [
    "grocery_list = ['milk', 'rice', 'eggs', 'bread', 'oranges', 'water']\n",
    "print(grocery_list[0])\n",
    "print(grocery_list[1])\n",
    "print(grocery_list[-1])"
   ]
  },
  {
   "cell_type": "markdown",
   "metadata": {},
   "source": [
    "MINI CHALLENGE #5 SOLUTION:\n",
    "- Write a code that takes a number from the user and indicates if it's positive or negative"
   ]
  },
  {
   "cell_type": "code",
   "execution_count": null,
   "metadata": {},
   "outputs": [],
   "source": [
    "x = int(input(\"Please enter an integer: \"))\n",
    "\n",
    "if x < 0:\n",
    "    print('Number is Negative')\n",
    "elif x > 0:\n",
    "    print('Number is Positive')\n",
    "else:    \n",
    "    print ('Number is zero')"
   ]
  },
  {
   "cell_type": "markdown",
   "metadata": {},
   "source": [
    "MINI CHALLENGE #6 SOLUTION:\n",
    "- Write a code that takes in three inputs from the user and calculate their sum"
   ]
  },
  {
   "cell_type": "code",
   "execution_count": null,
   "metadata": {},
   "outputs": [],
   "source": [
    "def summation(x, y, z):\n",
    "    return x + y + z"
   ]
  },
  {
   "cell_type": "code",
   "execution_count": null,
   "metadata": {},
   "outputs": [],
   "source": [
    "num1 = int(input(\"Enter the first number: \"))\n",
    "num2 = int(input(\"Enter the second number: \"))\n",
    "num3 = int(input(\"Enter the third number: \"))\n",
    "\n",
    "total = summation(num1, num2, num3)\n",
    "\n",
    "print('Total balance = {}'.format(total))"
   ]
  },
  {
   "cell_type": "markdown",
   "metadata": {},
   "source": [
    "MINI CHALLENGE #7 SOLUTION:\n",
    "- Write a code that displays numbers from 1 to 10 using for and while loops"
   ]
  },
  {
   "cell_type": "code",
   "execution_count": 2,
   "metadata": {},
   "outputs": [],
   "source": [
    "i = 1\n",
    "while (i < 11):\n",
    "  print (i)\n",
    "  i = i+1"
   ]
  },
  {
   "cell_type": "code",
   "execution_count": null,
   "metadata": {},
   "outputs": [],
   "source": [
    "for i in range(1, 11):\n",
    "    print(i)"
   ]
  },
  {
   "cell_type": "code",
   "execution_count": null,
   "metadata": {},
   "outputs": [],
   "source": []
  }
 ],
 "metadata": {
  "colab": {
   "collapsed_sections": [],
   "name": "Python 101 - Variables Assignment and Math Operations.ipynb",
   "provenance": []
  },
  "kernelspec": {
   "display_name": "Python 3",
   "language": "python",
   "name": "python3"
  },
  "language_info": {
   "codemirror_mode": {
    "name": "ipython",
    "version": 3
   },
   "file_extension": ".py",
   "mimetype": "text/x-python",
   "name": "python",
   "nbconvert_exporter": "python",
   "pygments_lexer": "ipython3",
   "version": "3.8.8"
  }
 },
 "nbformat": 4,
 "nbformat_minor": 1
}
