{
 "cells": [
  {
   "cell_type": "markdown",
   "metadata": {
    "id": "B1KBXIYhkuw5"
   },
   "source": [
    "# TASK #1: UNDERSTAND VARIABLES ASSIGNMENT"
   ]
  },
  {
   "cell_type": "code",
   "execution_count": 2,
   "metadata": {
    "id": "wsrqiWxMlQcd"
   },
   "outputs": [],
   "source": [
    "# Define a variable named \"x\" and assign a number (integer) to it\n",
    "# integer is a whole number (no decimals) that could be positive or negative\n",
    "\n",
    "x = 33"
   ]
  },
  {
   "cell_type": "code",
   "execution_count": 3,
   "metadata": {
    "colab": {
     "base_uri": "https://localhost:8080/"
    },
    "id": "_7BUQ4lalVpE",
    "outputId": "a85ec1b9-8ceb-41b4-ad1a-3569cb48bff4"
   },
   "outputs": [
    {
     "name": "stdout",
     "output_type": "stream",
     "text": [
      "33\n"
     ]
    }
   ],
   "source": [
    "# Let's view \"x\"\n",
    "\n",
    "print(x)"
   ]
  },
  {
   "cell_type": "code",
   "execution_count": 4,
   "metadata": {
    "id": "5RLjbN6alXBn"
   },
   "outputs": [],
   "source": [
    "# Define a variable named \"y\" and assign a number (float) to it\n",
    "# Float are real numbers with a decimal point dividing the integer and fractional parts\n",
    "\n",
    "y = 45.7"
   ]
  },
  {
   "cell_type": "code",
   "execution_count": 5,
   "metadata": {
    "colab": {
     "base_uri": "https://localhost:8080/"
    },
    "id": "XaseHcnvlY7V",
    "outputId": "0fe33940-50f7-482e-859a-c4d0cab59ef4"
   },
   "outputs": [
    {
     "name": "stdout",
     "output_type": "stream",
     "text": [
      "45.7\n"
     ]
    }
   ],
   "source": [
    "# Let's view \"y\"\n",
    "\n",
    "print(y)"
   ]
  },
  {
   "cell_type": "code",
   "execution_count": 6,
   "metadata": {
    "id": "1treMfL5phXx"
   },
   "outputs": [],
   "source": [
    "# Let's overwrite \"y\" (assume your portfolio value increased)\n",
    "\n",
    "y = 65.9"
   ]
  },
  {
   "cell_type": "code",
   "execution_count": 7,
   "metadata": {
    "colab": {
     "base_uri": "https://localhost:8080/"
    },
    "id": "QaBaDH0fp5cf",
    "outputId": "2fb30cf7-bce0-4988-b10a-92ea05762b29"
   },
   "outputs": [
    {
     "name": "stdout",
     "output_type": "stream",
     "text": [
      "65.9\n"
     ]
    }
   ],
   "source": [
    "# Notice that \"y\" will only contain the most recent value\n",
    "\n",
    "print(y)"
   ]
  },
  {
   "cell_type": "code",
   "execution_count": 8,
   "metadata": {
    "colab": {
     "base_uri": "https://localhost:8080/"
    },
    "id": "fqZRkUkilb-5",
    "outputId": "7aa42db1-ad0e-4817-c66d-f89c2f7a871a"
   },
   "outputs": [
    {
     "name": "stdout",
     "output_type": "stream",
     "text": [
      "<class 'int'>\n"
     ]
    }
   ],
   "source": [
    "# Get the type of \"x\" which is integer\n",
    "# integer is a whole number (no decimals) that could be positive or negative\n",
    "\n",
    "print(type (x))"
   ]
  },
  {
   "cell_type": "code",
   "execution_count": 9,
   "metadata": {
    "colab": {
     "base_uri": "https://localhost:8080/"
    },
    "id": "T0Rszu5xlceK",
    "outputId": "7e9f542c-2dd5-4373-bf5b-95bdbbbd2c95"
   },
   "outputs": [
    {
     "name": "stdout",
     "output_type": "stream",
     "text": [
      "<class 'float'>\n"
     ]
    }
   ],
   "source": [
    "# Get the type of \"y\" which is float\n",
    "# Float are real numbers with a decimal point dividing the integer and fractional parts\n",
    "\n",
    "print(type(y))"
   ]
  },
  {
   "cell_type": "markdown",
   "metadata": {
    "id": "75YN6NcVlv50"
   },
   "source": [
    "MINI CHALLENGE #1:\n",
    "- We defined a variable x and we assigned these 4 values listed below to it. Without executing any code cells, what will these lines of code generate?\n",
    "- Verify your answer by executing the code cells\n",
    "\n",
    "\n",
    "\n",
    "```\n",
    "z = 1000\n",
    "z = 2000\n",
    "z = 5000\n",
    "z = 6000\n",
    "z\n",
    "```\n"
   ]
  },
  {
   "cell_type": "code",
   "execution_count": 10,
   "metadata": {},
   "outputs": [
    {
     "name": "stdout",
     "output_type": "stream",
     "text": [
      "6000\n"
     ]
    }
   ],
   "source": [
    "z = 1000\n",
    "z = 2000\n",
    "z = 5000\n",
    "z = 6000\n",
    "\n",
    "# Answer is 6000\n",
    "print(z)"
   ]
  },
  {
   "cell_type": "markdown",
   "metadata": {
    "id": "lsCfJJEkkqGQ"
   },
   "source": [
    "# TASK #2: PERFORM MATH OPERATIONS IN PYTHON"
   ]
  },
  {
   "cell_type": "code",
   "execution_count": 15,
   "metadata": {
    "colab": {
     "base_uri": "https://localhost:8080/"
    },
    "id": "vxspxvj2qTrx",
    "outputId": "6866b342-3f28-4ed6-8be1-a11777d008c1"
   },
   "outputs": [
    {
     "name": "stdout",
     "output_type": "stream",
     "text": [
      "24\n"
     ]
    }
   ],
   "source": [
    "# Define a variable named i and initialize it with 20 \n",
    "# Let's assume that we want to increment the value by 4 \n",
    "\n",
    "i = 20\n",
    "i = i + 4\n",
    "print(i)"
   ]
  },
  {
   "cell_type": "code",
   "execution_count": 17,
   "metadata": {
    "colab": {
     "base_uri": "https://localhost:8080/"
    },
    "id": "zkO001-qcZc3",
    "outputId": "cfe072c9-fed1-4c13-ee88-ad60ffe62eb4"
   },
   "outputs": [
    {
     "name": "stdout",
     "output_type": "stream",
     "text": [
      "150\n"
     ]
    }
   ],
   "source": [
    "# Let's assume that you own a little grocery store \n",
    "# The price of 1 bottle of milk is $3 and we currently have 50 bottles\n",
    "# We can calculate the total dollar value of our inventory as follows:\n",
    "\n",
    "milk_cost = 3\n",
    "milk_stock = 50\n",
    "milk_inventory_value = milk_cost * milk_stock\n",
    "print(milk_inventory_value)\n"
   ]
  },
  {
   "cell_type": "code",
   "execution_count": 18,
   "metadata": {
    "colab": {
     "base_uri": "https://localhost:8080/"
    },
    "id": "4bXP93aqejr1",
    "outputId": "0d8a80b7-9cb4-4b26-a087-4ce3dd2286df"
   },
   "outputs": [
    {
     "name": "stdout",
     "output_type": "stream",
     "text": [
      "4.296875\n"
     ]
    }
   ],
   "source": [
    "# Let's assume you have $550 USD in our bank account\n",
    "# We want to buy x number of IBM stocks using the total amount \n",
    "# each IBM stock is priced at $128 each\n",
    "\n",
    "acc_balance = 550\n",
    "ibm_unit_cost = 128\n",
    "possible_share_purchase_ = acc_balance / ibm_unit_cost\n",
    "print (possible_share_purchase_)\n",
    "\n",
    "\n"
   ]
  },
  {
   "cell_type": "markdown",
   "metadata": {
    "id": "8UaT7FRdNnCQ"
   },
   "source": [
    "MINI CHALLENGE #2:\n",
    "- Write a code that takes in APPLE (AAPL) stock prices at two days and calculate the return:\n",
    "  - AAPL price on day 1 = \\$135\n",
    "  - AAPL price on day 2 = \\$150\n",
    "  - Work out total percentage gained from sale\n"
   ]
  },
  {
   "cell_type": "code",
   "execution_count": 30,
   "metadata": {},
   "outputs": [
    {
     "name": "stdout",
     "output_type": "stream",
     "text": [
      "15\n",
      "11.11111111111111\n"
     ]
    }
   ],
   "source": [
    "aapl_price1 = 135\n",
    "appl_price2 = 150\n",
    "sell = appl_price2 - aapl_price1\n",
    "total_gain = sell\n",
    "percentage = total_gain / aapl_price1 * 100\n",
    "print(total_gain)\n",
    "print( percentage)"
   ]
  },
  {
   "cell_type": "markdown",
   "metadata": {
    "id": "7zzJ2pPPkE-b"
   },
   "source": [
    "# TASK #3: UNDERSTAND PRINT AND INPUT OPERATIONS"
   ]
  },
  {
   "cell_type": "code",
   "execution_count": null,
   "metadata": {
    "id": "BS3wvOy9iIhI"
   },
   "outputs": [],
   "source": [
    "# The Print function is used to print elements on the screen\n",
    "# Define a string x \n",
    "# A string in Python is a sequence of characters\n",
    "# String in python are surrounded by single or double quotation marks\n"
   ]
  },
  {
   "cell_type": "code",
   "execution_count": 23,
   "metadata": {
    "id": "PwkYtwBbiGY2"
   },
   "outputs": [
    {
     "name": "stdout",
     "output_type": "stream",
     "text": [
      "Print Python string\n"
     ]
    }
   ],
   "source": [
    "x = 'Print Python string'\n",
    "print(x)"
   ]
  },
  {
   "cell_type": "code",
   "execution_count": 24,
   "metadata": {},
   "outputs": [
    {
     "name": "stdout",
     "output_type": "stream",
     "text": [
      "<class 'str'>\n"
     ]
    }
   ],
   "source": [
    "# Obtain the data type for 'x'\n",
    "\n",
    "print(type(x))"
   ]
  },
  {
   "cell_type": "code",
   "execution_count": 37,
   "metadata": {},
   "outputs": [
    {
     "name": "stdout",
     "output_type": "stream",
     "text": [
      "I own 600 shares from IBM\n",
      "I own 600 shares from IBM\n"
     ]
    }
   ],
   "source": [
    "# The format() method formats the specified value and insert it in the placeholder\n",
    "# The placeholder is defined using curly braces: {}\n",
    "company_name = 'IBM'\n",
    "shares = 600\n",
    "print(f'I own {shares} shares from {company_name}') #Python f-strings 3.6\n",
    "print(\"I own {} shares from {}\".format(shares,company_name)) #older versions"
   ]
  },
  {
   "cell_type": "code",
   "execution_count": 41,
   "metadata": {},
   "outputs": [
    {
     "name": "stdout",
     "output_type": "stream",
     "text": [
      "Welcome Arc Data Services, Please enter your name: Tom\n",
      "What country:  UK\n",
      "Please provide an email adress: uk@mail.com\n"
     ]
    }
   ],
   "source": [
    "# input is a built-in function in python\n",
    "# Obtain client data such as name, country and e-mail and print them all out on the screen\n",
    "name = input(\"Welcome Arc Data Services, Please enter your name: \")\n",
    "country = input (\"What country:  \")\n",
    "email = input(\"Please provide an email adress: \")"
   ]
  },
  {
   "cell_type": "code",
   "execution_count": 47,
   "metadata": {},
   "outputs": [
    {
     "name": "stdout",
     "output_type": "stream",
     "text": [
      "Tom you entered country of residence as UK and your email is uk@mail.com\n",
      "Tom you entered country of residence as UK and your email is uk@mail.com\n"
     ]
    }
   ],
   "source": [
    "#Confirm users input with format() or f-string method\n",
    "print(f\"{name} you entered country of residence as {country} and your email is {email}\")#Python f-strings 3.6\n",
    "print(\"{} you entered country of residence as {} and your email is {}\".format(name,country,email))#older versions"
   ]
  },
  {
   "cell_type": "markdown",
   "metadata": {},
   "source": [
    "MINI CHALLENGE #3:\n",
    "- Write a code that takes in the name of the stock, price at which it is selling, the number of stocks that you want to own and prints out the total funds required to buy this stock. Find a sample expected output below:\n",
    "  - Enter the price of the stock you want to buy: 3000  \n",
    "  - Enter the number of stocks that you want to buy: 5\n",
    "  - Enter the name of the stock that you want to buy: AMZN\n",
    "  - The total funds required to buy 5 number of AMZN stocks at 3000 is: 15000\n"
   ]
  },
  {
   "cell_type": "code",
   "execution_count": 50,
   "metadata": {},
   "outputs": [
    {
     "name": "stdout",
     "output_type": "stream",
     "text": [
      "enter purchase value: 45\n",
      "enter purchase amount: 4\n",
      "180\n"
     ]
    }
   ],
   "source": [
    "ticker = (\"name of ticker: \")\n",
    "ticker_price = input(\"enter purchase value: \")\n",
    "purchase_qty = input(\"enter purchase amount: \")\n",
    "total_ticker_cost = int(ticker_price) * int(purchase_qty)\n",
    "print(total_ticker_cost)\n"
   ]
  },
  {
   "cell_type": "markdown",
   "metadata": {},
   "source": [
    "# TASK #4: UNDERSTAND LISTS DATA TYPES"
   ]
  },
  {
   "cell_type": "code",
   "execution_count": null,
   "metadata": {},
   "outputs": [],
   "source": [
    "# A list is a collection which is ordered and changeable. \n",
    "# List allows duplicate members.\n"
   ]
  },
  {
   "cell_type": "code",
   "execution_count": null,
   "metadata": {},
   "outputs": [],
   "source": [
    "# Obtain the datatype\n"
   ]
  },
  {
   "cell_type": "code",
   "execution_count": null,
   "metadata": {},
   "outputs": [],
   "source": [
    "# Access specific elements in the list with Indexing\n",
    "# Note that the first element in the list has an index of 0 (little confusing but you'll get used to it!)\n"
   ]
  },
  {
   "cell_type": "markdown",
   "metadata": {},
   "source": [
    "MINI CHALLENGE #4:\n",
    "- Print the first, second and last element in the list below\n",
    "\n",
    "```\n",
    "grocery_list = ['milk', 'rice', 'eggs', 'bread', 'oranges', 'water']\n",
    "\n",
    "```\n",
    "\n"
   ]
  },
  {
   "cell_type": "code",
   "execution_count": null,
   "metadata": {},
   "outputs": [],
   "source": []
  },
  {
   "cell_type": "markdown",
   "metadata": {},
   "source": [
    "# TASK #5: UNDERSTAND COMPARISON OPERATORS AND CONDITIONAL STATEMENTS"
   ]
  },
  {
   "cell_type": "code",
   "execution_count": null,
   "metadata": {},
   "outputs": [],
   "source": [
    "# Comparison Operator output could be \"True\" or \"False\"\n",
    "# Let's cover equal '==' comparison operator first\n",
    "# It's simply a question: \"Is x equals y or not?\"\n",
    "# \"True\" output means condition is satisfied \n",
    "# \"False\" output means Condition is not satisfied (condition is not true) \n"
   ]
  },
  {
   "cell_type": "code",
   "execution_count": null,
   "metadata": {},
   "outputs": [],
   "source": [
    "# Greater than or equal operator '>='\n",
    "\n"
   ]
  },
  {
   "cell_type": "code",
   "execution_count": null,
   "metadata": {},
   "outputs": [],
   "source": [
    "# Note that '==' is a comparison operator \n",
    "# Note that '=' is used for variable assignment (put 10 in x)\n"
   ]
  },
  {
   "cell_type": "code",
   "execution_count": null,
   "metadata": {},
   "outputs": [],
   "source": []
  },
  {
   "cell_type": "markdown",
   "metadata": {},
   "source": [
    "- A simple if-else statement is written in Python as follows:\n",
    "\n",
    "```\n",
    "if condition:\n",
    "  statement #1\n",
    "else:\n",
    "  statement #2\n",
    "```\n",
    "\n",
    "- If the condition is true, execute the first indented statement\n",
    "- if the condition is not true, then execute the else indented statements. \n",
    "- Note that Python uses indentation (whitespace) to indicate code sections and scope."
   ]
  },
  {
   "cell_type": "code",
   "execution_count": null,
   "metadata": {},
   "outputs": [],
   "source": [
    "# Let's take an input from the user and grant or deny access accordingly\n"
   ]
  },
  {
   "cell_type": "code",
   "execution_count": null,
   "metadata": {},
   "outputs": [],
   "source": []
  },
  {
   "cell_type": "markdown",
   "metadata": {},
   "source": [
    "MINI CHALLENGE #5:\n",
    "- Write a code that takes a number from the user and indicates if it's positive or negative"
   ]
  },
  {
   "cell_type": "markdown",
   "metadata": {},
   "source": [
    "# TASK #6: DEVELOP FUNCTIONS IN PYTHON"
   ]
  },
  {
   "cell_type": "code",
   "execution_count": null,
   "metadata": {},
   "outputs": [],
   "source": [
    "# Define a function that takes in two argument x and y and returns their multiplication \n"
   ]
  },
  {
   "cell_type": "code",
   "execution_count": null,
   "metadata": {},
   "outputs": [],
   "source": [
    "# Call the function\n"
   ]
  },
  {
   "cell_type": "markdown",
   "metadata": {},
   "source": [
    "MINI CHALLENGE #6:\n",
    "- Write a code that takes in three inputs from the user and calculate their sum"
   ]
  },
  {
   "cell_type": "code",
   "execution_count": null,
   "metadata": {},
   "outputs": [],
   "source": []
  },
  {
   "cell_type": "markdown",
   "metadata": {},
   "source": [
    "# TASK #7: UNDERSTAND FOR AND WHILE LOOPS"
   ]
  },
  {
   "cell_type": "code",
   "execution_count": null,
   "metadata": {},
   "outputs": [],
   "source": [
    "# List of strings\n"
   ]
  },
  {
   "cell_type": "code",
   "execution_count": null,
   "metadata": {},
   "outputs": [],
   "source": []
  },
  {
   "cell_type": "code",
   "execution_count": null,
   "metadata": {},
   "outputs": [],
   "source": [
    "# Range() generates a list of numbers, which is used to iterate over with for loops.\n",
    "# range() is 0-index based, meaning list indexes start at 0, not 1. \n",
    "# The last integer generated by range() is up to, but not including, last element. \n",
    "# Example: range(0, 7) generates integers from 0 up to, but not including, 7.\n"
   ]
  },
  {
   "cell_type": "code",
   "execution_count": null,
   "metadata": {},
   "outputs": [],
   "source": [
    "# While loop can be used to execute a set of statements as long as a certain condition holds true.\n"
   ]
  },
  {
   "cell_type": "markdown",
   "metadata": {},
   "source": [
    "MINI CHALLENGE #7:\n",
    "- Write a code that displays numbers from 1 to 10 using for and while loops\n"
   ]
  },
  {
   "cell_type": "code",
   "execution_count": null,
   "metadata": {},
   "outputs": [],
   "source": []
  },
  {
   "cell_type": "markdown",
   "metadata": {},
   "source": [
    "# TASK #8: CAPSTONE PROJECT"
   ]
  },
  {
   "cell_type": "markdown",
   "metadata": {},
   "source": [
    "Develop a guessing game that performs the following: \n",
    "- The system will automatically generate a random number between 1 and 100. \n",
    "- Users can insert any number between 1 and 100\n",
    "- The program shall be able to compare the number generated by the system and the number that has been entered by the user. The program shall print out one of the following options to help the user improve their next guess:\n",
    "    - You are right, great job!\n",
    "    - Your guess is low, try again!\n",
    "    - your guess is high, try again!\n",
    "\n",
    "- The program exits when the user guess matches the number generated by the system\n",
    "\n"
   ]
  },
  {
   "cell_type": "code",
   "execution_count": null,
   "metadata": {},
   "outputs": [],
   "source": []
  },
  {
   "cell_type": "code",
   "execution_count": null,
   "metadata": {},
   "outputs": [],
   "source": []
  },
  {
   "cell_type": "code",
   "execution_count": null,
   "metadata": {},
   "outputs": [],
   "source": []
  },
  {
   "cell_type": "code",
   "execution_count": null,
   "metadata": {},
   "outputs": [],
   "source": []
  },
  {
   "cell_type": "code",
   "execution_count": null,
   "metadata": {},
   "outputs": [],
   "source": []
  },
  {
   "cell_type": "markdown",
   "metadata": {
    "id": "Jm-0XhPntGtK"
   },
   "source": [
    "# EXCELLENT JOB"
   ]
  },
  {
   "cell_type": "markdown",
   "metadata": {
    "id": "_wuaDbzWm-i8"
   },
   "source": [
    "# MINI CHALLENGES SOLUTIONS"
   ]
  },
  {
   "cell_type": "markdown",
   "metadata": {
    "id": "Xq-Y8OW0nG8O"
   },
   "source": [
    "MINI CHALLENGE #1 SOLUTION:\n",
    "- We defined a variable x and we assigned these 4 values listed below to it. Without executing any code cells, what will these lines of code generate?\n",
    "- Verify your answer by executing the code cells\n",
    "\n",
    "```\n",
    "z = 1000\n",
    "z = 2000\n",
    "z = 5000\n",
    "z = 6000\n",
    "z\n",
    "```"
   ]
  },
  {
   "cell_type": "code",
   "execution_count": null,
   "metadata": {
    "id": "R_CHNPWbnAf0"
   },
   "outputs": [],
   "source": [
    "# The output of this code is 6000\n",
    "# Initially we put 1000 in z, then we overwrite it by placing 2000 in z, and then 5000 in z & finally 6000 in z\n",
    "z = 1000\n",
    "z = 2000\n",
    "z = 5000\n",
    "z = 6000\n",
    "z"
   ]
  },
  {
   "cell_type": "markdown",
   "metadata": {
    "id": "kfyhdekfaUnr"
   },
   "source": [
    "MINI CHALLENGE #2 SOLUTION:\n",
    "- Write a code that takes in APPLE (AAPL) stock prices at two days and calculate the return:\n",
    "  - AAPL price on day 1 = \\$135\n",
    "  - AAPL price on day 2 = \\$150\n"
   ]
  },
  {
   "cell_type": "code",
   "execution_count": 11,
   "metadata": {
    "id": "SUdMEr51Y0cR"
   },
   "outputs": [
    {
     "data": {
      "text/plain": [
       "11.11111111111111"
      ]
     },
     "execution_count": 11,
     "metadata": {},
     "output_type": "execute_result"
    }
   ],
   "source": [
    "AAPL_price_1 = 135\n",
    "AAPL_price_2 = 150\n",
    "\n",
    "price_diff = AAPL_price_2 - AAPL_price_1\n",
    "percentage_change = price_diff / AAPL_price_1 * 100\n",
    "\n",
    "percentage_change"
   ]
  },
  {
   "cell_type": "markdown",
   "metadata": {},
   "source": [
    "MINI CHALLENGE #3 SOLUTION:\n",
    "- Write a code that takes in the name of the stock, price at which it is selling, the number of stocks that you want to own and prints out the total funds required to buy this stock. Find a sample expected output below:\n",
    "  - Enter the price of the stock you want to buy: 3000  \n",
    "  - Enter the number of stocks that you want to buy: 5\n",
    "  - Enter the name of the stock that you want to buy: AMZN\n",
    "  - The total funds required to buy 5 number of AMZN stocks at 3000 is: 15000"
   ]
  },
  {
   "cell_type": "code",
   "execution_count": null,
   "metadata": {},
   "outputs": [],
   "source": [
    "x = input(\"Enter the price of the stock you want to buy: \")\n",
    "x = int(x)\n",
    "y = input(\"Enter the number of stocks that you want to buy: \")\n",
    "y = int(y)\n",
    "z = input(\"Enter the name of the stock that you want to buy: \")\n",
    "print('The total funds required to buy {} number of {} stocks at {} is {}'.format(y,z,x, x*y)) "
   ]
  },
  {
   "cell_type": "markdown",
   "metadata": {},
   "source": [
    "MINI CHALLENGE #4 SOLUTION:\n",
    "- Print the first, second and last element in the list below\n",
    "\n",
    "```\n",
    "grocery_list = ['milk', 'rice', 'eggs', 'bread', 'oranges', 'water']\n",
    "\n",
    "```\n"
   ]
  },
  {
   "cell_type": "code",
   "execution_count": null,
   "metadata": {},
   "outputs": [],
   "source": [
    "grocery_list = ['milk', 'rice', 'eggs', 'bread', 'oranges', 'water']\n",
    "print(grocery_list[0])\n",
    "print(grocery_list[1])\n",
    "print(grocery_list[-1])"
   ]
  },
  {
   "cell_type": "markdown",
   "metadata": {},
   "source": [
    "MINI CHALLENGE #5 SOLUTION:\n",
    "- Write a code that takes a number from the user and indicates if it's positive or negative"
   ]
  },
  {
   "cell_type": "code",
   "execution_count": null,
   "metadata": {},
   "outputs": [],
   "source": [
    "x = int(input(\"Please enter an integer: \"))\n",
    "\n",
    "if x < 0:\n",
    "    print('Number is Negative')\n",
    "elif x > 0:\n",
    "    print('Number is Positive')\n",
    "else:    \n",
    "    print ('Number is zero')"
   ]
  },
  {
   "cell_type": "markdown",
   "metadata": {},
   "source": [
    "MINI CHALLENGE #6 SOLUTION:\n",
    "- Write a code that takes in three inputs from the user and calculate their sum"
   ]
  },
  {
   "cell_type": "code",
   "execution_count": null,
   "metadata": {},
   "outputs": [],
   "source": [
    "def summation(x, y, z):\n",
    "    return x + y + z"
   ]
  },
  {
   "cell_type": "code",
   "execution_count": null,
   "metadata": {},
   "outputs": [],
   "source": [
    "num1 = int(input(\"Enter the first number: \"))\n",
    "num2 = int(input(\"Enter the second number: \"))\n",
    "num3 = int(input(\"Enter the third number: \"))\n",
    "\n",
    "total = summation(num1, num2, num3)\n",
    "\n",
    "print('Total balance = {}'.format(total))"
   ]
  },
  {
   "cell_type": "markdown",
   "metadata": {},
   "source": [
    "MINI CHALLENGE #7 SOLUTION:\n",
    "- Write a code that displays numbers from 1 to 10 using for and while loops"
   ]
  },
  {
   "cell_type": "code",
   "execution_count": null,
   "metadata": {},
   "outputs": [],
   "source": [
    "i = 1\n",
    "while (i < 11):\n",
    "  print (i)\n",
    "  i = i+1"
   ]
  },
  {
   "cell_type": "code",
   "execution_count": null,
   "metadata": {},
   "outputs": [],
   "source": [
    "for i in range(1, 11):\n",
    "    print(i)"
   ]
  },
  {
   "cell_type": "code",
   "execution_count": null,
   "metadata": {},
   "outputs": [],
   "source": []
  }
 ],
 "metadata": {
  "colab": {
   "collapsed_sections": [],
   "name": "Python 101 - Variables Assignment and Math Operations.ipynb",
   "provenance": []
  },
  "kernelspec": {
   "display_name": "Python 3",
   "language": "python",
   "name": "python3"
  },
  "language_info": {
   "codemirror_mode": {
    "name": "ipython",
    "version": 3
   },
   "file_extension": ".py",
   "mimetype": "text/x-python",
   "name": "python",
   "nbconvert_exporter": "python",
   "pygments_lexer": "ipython3",
   "version": "3.8.8"
  }
 },
 "nbformat": 4,
 "nbformat_minor": 1
}
